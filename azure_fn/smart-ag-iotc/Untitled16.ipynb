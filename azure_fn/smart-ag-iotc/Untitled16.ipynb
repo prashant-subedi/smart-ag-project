{
 "cells": [
  {
   "cell_type": "code",
   "execution_count": 1,
   "id": "33c6d2e9",
   "metadata": {},
   "outputs": [],
   "source": [
    "import numpy as np\n",
    "import pandas as pd\n",
    "from sklearn.preprocessing import StandardScaler\n",
    "from sklearn.metrics import accuracy_score, mean_squared_error, mean_absolute_error\n",
    "from sklearn.svm import SVR\n",
    "import pickle\n",
    "import json"
   ]
  },
  {
   "cell_type": "code",
   "execution_count": 2,
   "id": "f81d28e9",
   "metadata": {},
   "outputs": [],
   "source": [
    "# Dummy Code\n",
    "Real_Sm ='{\"node_id\":4,\"packet_id\":5,\"error_code\":0,\"temp\":24,\"light\":44.18377,\"moisture\":24.1643,\"humidity\":65.83,\"mock_rain\":true}'\n",
    "Real_Sm_inp = json.loads(Real_Sm)"
   ]
  },
  {
   "cell_type": "code",
   "execution_count": 3,
   "id": "ad8dcbb4",
   "metadata": {},
   "outputs": [],
   "source": [
    "def data_prep(Real_Sm_inp):\n",
    "    # For data prep\n",
    "    # Random rain data over next 100 points, if flag is true it will use \n",
    "    an_array = np.zeros([1,5])\n",
    "    rain_data = np.zeros([88])\n",
    "    rain_random = np.array([0.05,0.01,0.19,0.02,0.61,0.038,0.4,0.06,0.5,0.31,0.09,0.07])\n",
    "    rain_sample = np.hstack((rain_data,rain_random))\n",
    "    np.random.shuffle(rain_sample)\n",
    "    #otherwise will use zero\n",
    "    rain_input = np.zeros([100])\n",
    "    for key, value in Real_Sm_inp.items():\n",
    "        if value == None :\n",
    "            value = 0\n",
    "        if key == 'temp' :\n",
    "            Fernht = (value * 9/5) + 32 \n",
    "            an_array[0,2] = Fernht\n",
    "            an_array[0,1] = Fernht - 8\n",
    "        if key == 'light' :\n",
    "            an_array[0,4] = value\n",
    "        if key == 'moisture' :\n",
    "            an_array[0,0] = value\n",
    "        if key == 'humidity' :\n",
    "            an_array[0,3] = value\n",
    "        if key == 'mock_rain' :\n",
    "            if value :\n",
    "                rain_input = rain_sample.copy()    \n",
    "    np.reshape(rain_input,(-1,1))\n",
    "    Test_input = np.zeros([100,6])\n",
    "    Test_input[:,5] = rain_input\n",
    "    Test_input[:,1] =  Fernht - 8\n",
    "    Test_input[:,2] =  Fernht\n",
    "    Test_input[:,3] =  an_array[0,3]\n",
    "    Test_input[:,4] = an_array[0,4]\n",
    "    Test_input[0,0:5] = an_array\n",
    "    return Test_input"
   ]
  },
  {
   "cell_type": "code",
   "execution_count": 4,
   "id": "27ef8e9c",
   "metadata": {},
   "outputs": [],
   "source": [
    "def load_model():\n",
    "    filename = 'finalized_model.sav'\n",
    "    loaded_model = pickle.load(open(filename, 'rb'))\n",
    "    scaler = pickle.load(open('scaler.pkl', 'rb'))\n",
    "    return(loaded_model,scaler)"
   ]
  },
  {
   "cell_type": "code",
   "execution_count": 5,
   "id": "6eb9f531",
   "metadata": {},
   "outputs": [],
   "source": [
    "def predict_SM_next_100(Test_input):\n",
    "    loaded_model,scaler = load_model()\n",
    "    for idx in range(99):\n",
    "        Input = Test_input[idx,:]\n",
    "        new_Input = np.reshape(Input, (-1, 6))\n",
    "        X_test_scaled = scaler.transform(new_Input)\n",
    "        result = loaded_model.predict(X_test_scaled)\n",
    "        #print(result,Test_input[idx,0])\n",
    "        Test_input[idx+1,0] = result\n",
    "    return result"
   ]
  },
  {
   "cell_type": "code",
   "execution_count": 6,
   "id": "951db528",
   "metadata": {},
   "outputs": [],
   "source": [
    "def predict_SM(Real_Sm_inp):\n",
    "    Test_Input = data_prep(Real_Sm_inp)\n",
    "    result = predict_SM_next_100(Test_Input)\n",
    "    if result < 20:\n",
    "        print(\"irrigate\")\n",
    "    return(result)"
   ]
  },
  {
   "cell_type": "code",
   "execution_count": 7,
   "id": "90962f62",
   "metadata": {},
   "outputs": [
    {
     "data": {
      "text/plain": [
       "array([25.61349724])"
      ]
     },
     "execution_count": 7,
     "metadata": {},
     "output_type": "execute_result"
    }
   ],
   "source": [
    "predict_SM(Real_Sm_inp)"
   ]
  }
 ],
 "metadata": {
  "kernelspec": {
   "display_name": "Python 3 (ipykernel)",
   "language": "python",
   "name": "python3"
  },
  "language_info": {
   "codemirror_mode": {
    "name": "ipython",
    "version": 3
   },
   "file_extension": ".py",
   "mimetype": "text/x-python",
   "name": "python",
   "nbconvert_exporter": "python",
   "pygments_lexer": "ipython3",
   "version": "3.9.6"
  }
 },
 "nbformat": 4,
 "nbformat_minor": 5
}
