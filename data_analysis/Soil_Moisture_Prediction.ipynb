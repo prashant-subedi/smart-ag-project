{
 "cells": [
  {
   "cell_type": "code",
   "execution_count": 1,
   "id": "6407ea68",
   "metadata": {},
   "outputs": [],
   "source": [
    "import numpy as np\n",
    "import matplotlib.pyplot as plt\n",
    "import pandas as pd\n",
    "from sklearn.preprocessing import StandardScaler\n",
    "from sklearn.preprocessing import MinMaxScaler\n",
    "from sklearn.model_selection import train_test_split\n",
    "from sklearn.metrics import accuracy_score, mean_squared_error, mean_absolute_error\n",
    "from sklearn.svm import SVR\n",
    "from sklearn.model_selection import learning_curve\n",
    "import pickle"
   ]
  },
  {
   "cell_type": "code",
   "execution_count": 2,
   "id": "fbf0812d",
   "metadata": {},
   "outputs": [],
   "source": [
    "df = pd.read_csv('irrigation_with_weather_data.csv',sep=',',)\n",
    "df = df.sample(frac=1).reset_index(drop=True)\n",
    "\n",
    "# Review the data statics \n",
    "df.describe()\n",
    "\n",
    "y_target = df['PSM'] # 1D target vector => soil moisture from next reading => \n",
    "#Initial soil moisture captured by first reading-> Evaopration changes -> new soil moisture second reading\n",
    "#PSM is manually produced soil moisture from next reading\n",
    "\n",
    "# Data Matrix containing all features excluding the target column \"PSM\"\n",
    "x_feature = df.drop(columns=['PSM'])\n",
    "\n",
    "# convert data frame to numpy\n",
    "x_feature_numpy = x_feature.to_numpy()\n",
    "y_target_numpy = y_target.to_numpy()\n",
    "\n",
    "# split input data in training and testing data \n",
    "x_feature_train, x_feature_test, y_target_train, y_target_test = train_test_split(x_feature_numpy, y_target_numpy, test_size=0.2, random_state=43) # shuffles and splits\n",
    "\n",
    "# Normalised the trainning data and create a model scale to normalize all future data\n",
    "scaler = MinMaxScaler()\n",
    "scaler.fit(x_feature_train)\n",
    "x_feature_train_norm = scaler.transform(x_feature_train)\n",
    "\n",
    "# Normalise testing data using training model scale\n",
    "x_feature_test_norm = scaler.transform(x_feature_test)\n",
    "\n",
    "# Save training model scale as pickle file for future normalisation \n",
    "pickle.dump(scaler, open('scaler.pkl', 'wb'))"
   ]
  },
  {
   "cell_type": "code",
   "execution_count": 3,
   "id": "53087910",
   "metadata": {},
   "outputs": [
    {
     "data": {
      "text/plain": [
       "SVR(C=10000, gamma=0.0001)"
      ]
     },
     "execution_count": 3,
     "metadata": {},
     "output_type": "execute_result"
    }
   ],
   "source": [
    "# Support vector machine model with hyper paramater tunning \n",
    "regressor = SVR(kernel = 'rbf', C= 10000, gamma=0.0001)\n",
    "regressor.fit(x_feature_train_norm, y_target_train)"
   ]
  },
  {
   "cell_type": "code",
   "execution_count": 4,
   "id": "6076864c",
   "metadata": {},
   "outputs": [
    {
     "name": "stdout",
     "output_type": "stream",
     "text": [
      "Loss : Train Loss: 0.003812: Test Loss: 0.003744: \n"
     ]
    }
   ],
   "source": [
    "# predicting and printing training and testing MSE\n",
    "y_target_train_pred = regressor.predict(x_feature_train_norm)\n",
    "y_target_test_pred = regressor.predict(x_feature_test_norm)\n",
    "train_accuracy_str = \"Train Loss: %f:\" % mean_squared_error(y_target_train, y_target_train_pred)\n",
    "test_accuracy_str = \"Test Loss: %f: \" % mean_squared_error(y_target_test, y_target_test_pred)\n",
    "print(\"Loss :\",train_accuracy_str, test_accuracy_str)"
   ]
  },
  {
   "cell_type": "code",
   "execution_count": 5,
   "id": "cba3c7fd",
   "metadata": {},
   "outputs": [],
   "source": [
    "# SVR sfold training model to generate learning curve\n",
    "train_sizes, train_scores, valid_scores = learning_curve(\n",
    "    SVR(kernel = 'rbf', C= 10000, gamma=0.0001), x_feature_train_norm, y_target_train)"
   ]
  },
  {
   "cell_type": "code",
   "execution_count": 6,
   "id": "95e88e6e",
   "metadata": {},
   "outputs": [],
   "source": [
    "# save the model to pickle file for future prediction and realtime trainning usages\n",
    "filename = 'finalized_model.sav'\n",
    "pickle.dump(regressor, open(filename, 'wb'))"
   ]
  },
  {
   "cell_type": "code",
   "execution_count": 7,
   "id": "6e969a7f",
   "metadata": {},
   "outputs": [
    {
     "data": {
      "text/plain": [
       "array([[0.99999457, 0.99999497, 0.99999497, 0.99999497, 0.99999497],\n",
       "       [0.99999572, 0.99999585, 0.99999594, 0.99999594, 0.99999594],\n",
       "       [0.99999589, 0.99999604, 0.99999599, 0.99999605, 0.99999605],\n",
       "       [0.99999613, 0.99999627, 0.9999962 , 0.9999962 , 0.99999612],\n",
       "       [0.9999963 , 0.99999625, 0.99999632, 0.99999621, 0.99999632]])"
      ]
     },
     "execution_count": 7,
     "metadata": {},
     "output_type": "execute_result"
    }
   ],
   "source": [
    "# Trainning MSE score from sfold run\n",
    "train_scores"
   ]
  },
  {
   "cell_type": "code",
   "execution_count": 8,
   "id": "51f3252b",
   "metadata": {},
   "outputs": [
    {
     "data": {
      "text/plain": [
       "array([[0.99999463, 0.99999474, 0.99999485, 0.99999476, 0.99999487],\n",
       "       [0.99999574, 0.99999578, 0.99999596, 0.99999599, 0.9999959 ],\n",
       "       [0.99999592, 0.99999599, 0.99999601, 0.99999611, 0.99999602],\n",
       "       [0.99999614, 0.99999623, 0.9999962 , 0.99999626, 0.99999606],\n",
       "       [0.99999631, 0.99999622, 0.99999634, 0.99999628, 0.99999625]])"
      ]
     },
     "execution_count": 8,
     "metadata": {},
     "output_type": "execute_result"
    }
   ],
   "source": [
    "# validation MSE score from sfold run\n",
    "valid_scores"
   ]
  },
  {
   "cell_type": "code",
   "execution_count": 9,
   "id": "f1ca2e7a",
   "metadata": {},
   "outputs": [
    {
     "name": "stdout",
     "output_type": "stream",
     "text": [
      "Mean training scores\n",
      "\n",
      " 874     0.999995\n",
      "2841    0.999996\n",
      "4808    0.999996\n",
      "6775    0.999996\n",
      "8742    0.999996\n",
      "dtype: float64\n",
      "\n",
      " --------------------\n",
      "\n",
      "Mean validation scores\n",
      "\n",
      " 874     0.999995\n",
      "2841    0.999996\n",
      "4808    0.999996\n",
      "6775    0.999996\n",
      "8742    0.999996\n",
      "dtype: float64\n"
     ]
    }
   ],
   "source": [
    "train_scores_mean = -train_scores.mean(axis = 1)\n",
    "validation_scores_mean = -valid_scores.mean(axis = 1)\n",
    "train_scores_mean = np.mean(train_scores, axis=1)\n",
    "train_scores_std = np.std(train_scores, axis=1)\n",
    "valid_scores_mean = np.mean(valid_scores, axis=1)\n",
    "valid_scores_std = np.std(valid_scores, axis=1)\n",
    "print('Mean training scores\\n\\n', pd.Series(train_scores_mean, index = train_sizes))\n",
    "print('\\n', '-' * 20) # separator\n",
    "print('\\nMean validation scores\\n\\n',pd.Series(valid_scores_mean, index = train_sizes))"
   ]
  },
  {
   "cell_type": "code",
   "execution_count": 10,
   "id": "17500386",
   "metadata": {},
   "outputs": [
    {
     "data": {
      "text/plain": [
       "<matplotlib.legend.Legend at 0x7f7852112370>"
      ]
     },
     "execution_count": 10,
     "metadata": {},
     "output_type": "execute_result"
    },
    {
     "data": {
      "image/png": "[encoded data removed]",
      "text/plain": [
       "<Figure size 720x432 with 1 Axes>"
      ]
     },
     "metadata": {
      "needs_background": "light"
     },
     "output_type": "display_data"
    }
   ],
   "source": [
    "fig, (loss_plot) = plt.subplots(1,1,figsize=(10,6))\n",
    "ax = plt.axes()\n",
    "ax.set_facecolor(\"white\")\n",
    "plt.ylabel('Score', fontsize = 14)\n",
    "plt.xlabel('Training Samples', fontsize = 14)\n",
    "plt.title('Learning curves with Trainning Input', fontsize = 18, y = 1.03)\n",
    "plt.fill_between(train_sizes, train_scores_mean - train_scores_std,\n",
    "                     train_scores_mean + train_scores_std, alpha=0.01,\n",
    "                     color=\"r\")\n",
    "plt.fill_between(train_sizes, valid_scores_mean - valid_scores_std,\n",
    "                     valid_scores_mean + valid_scores_std, alpha=0.01, color=\"b\")\n",
    "plt.plot(train_sizes, train_scores_mean, 'o-', color=\"r\",\n",
    "             label=\"Training score\")\n",
    "plt.plot(train_sizes, valid_scores_mean, 'o-', color=\"b\",\n",
    "             label=\"Cross-validation score\")\n",
    "\n",
    "plt.legend(loc=\"best\")"
   ]
  }
 ],
 "metadata": {
  "kernelspec": {
   "display_name": "Python 3 (ipykernel)",
   "language": "python",
   "name": "python3"
  },
  "language_info": {
   "codemirror_mode": {
    "name": "ipython",
    "version": 3
   },
   "file_extension": ".py",
   "mimetype": "text/x-python",
   "name": "python",
   "nbconvert_exporter": "python",
   "pygments_lexer": "ipython3",
   "version": "3.8.8"
  }
 },
 "nbformat": 4,
 "nbformat_minor": 5
}
